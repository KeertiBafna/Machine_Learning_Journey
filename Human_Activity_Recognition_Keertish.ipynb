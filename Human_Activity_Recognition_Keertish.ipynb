{
  "nbformat": 4,
  "nbformat_minor": 0,
  "metadata": {
    "colab": {
      "name": "Human-Activity-Recognition_Keertish.ipynb",
      "version": "0.3.2",
      "provenance": [],
      "collapsed_sections": [],
      "include_colab_link": true
    },
    "language_info": {
      "codemirror_mode": {
        "name": "ipython",
        "version": 3
      },
      "file_extension": ".py",
      "mimetype": "text/x-python",
      "name": "python",
      "nbconvert_exporter": "python",
      "pygments_lexer": "ipython3",
      "version": "3.6.5"
    },
    "kernelspec": {
      "display_name": "Python 3",
      "language": "python",
      "name": "python3"
    }
  },
  "cells": [
    {
      "cell_type": "markdown",
      "metadata": {
        "id": "view-in-github",
        "colab_type": "text"
      },
      "source": [
        "<a href=\"https://colab.research.google.com/github/KeertiBafna/Machine_Learning_Journey/blob/master/Human_Activity_Recognition_Keertish.ipynb\" target=\"_parent\"><img src=\"https://colab.research.google.com/assets/colab-badge.svg\" alt=\"Open In Colab\"/></a>"
      ]
    },
    {
      "cell_type": "code",
      "metadata": {
        "id": "LM_JhTxCYEVf",
        "colab_type": "code",
        "colab": {}
      },
      "source": [
        "import numpy as np\n",
        "import pandas as pd\n",
        "import seaborn as sns\n",
        "import matplotlib.pyplot as plt"
      ],
      "execution_count": 0,
      "outputs": []
    },
    {
      "cell_type": "code",
      "metadata": {
        "id": "p8Ep169nYTLK",
        "colab_type": "code",
        "outputId": "1b223601-dd8a-48c6-f49d-b47b66d98d04",
        "colab": {
          "resources": {
            "http://localhost:8080/nbextensions/google.colab/files.js": {
              "data": "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",
              "ok": true,
              "headers": [
                [
                  "content-type",
                  "application/javascript"
                ]
              ],
              "status": 200,
              "status_text": ""
            }
          },
          "base_uri": "https://localhost:8080/",
          "height": 361
        }
      },
      "source": [
        "from google.colab import files\n",
        "files.upload()"
      ],
      "execution_count": 0,
      "outputs": [
        {
          "output_type": "display_data",
          "data": {
            "text/html": [
              "\n",
              "     <input type=\"file\" id=\"files-84604077-46ab-404f-9d9f-d7043ee086ab\" name=\"files[]\" multiple disabled />\n",
              "     <output id=\"result-84604077-46ab-404f-9d9f-d7043ee086ab\">\n",
              "      Upload widget is only available when the cell has been executed in the\n",
              "      current browser session. Please rerun this cell to enable.\n",
              "      </output>\n",
              "      <script src=\"/nbextensions/google.colab/files.js\"></script> "
            ],
            "text/plain": [
              "<IPython.core.display.HTML object>"
            ]
          },
          "metadata": {
            "tags": []
          }
        },
        {
          "output_type": "stream",
          "text": [
            "Saving test.csv to test.csv\n"
          ],
          "name": "stdout"
        },
        {
          "output_type": "error",
          "ename": "KeyboardInterrupt",
          "evalue": "ignored",
          "traceback": [
            "\u001b[0;31m---------------------------------------------------------------------------\u001b[0m",
            "\u001b[0;31mKeyboardInterrupt\u001b[0m                         Traceback (most recent call last)",
            "\u001b[0;32m<ipython-input-2-5c2e8a8d365b>\u001b[0m in \u001b[0;36m<module>\u001b[0;34m()\u001b[0m\n\u001b[1;32m      1\u001b[0m \u001b[0;32mfrom\u001b[0m \u001b[0mgoogle\u001b[0m\u001b[0;34m.\u001b[0m\u001b[0mcolab\u001b[0m \u001b[0;32mimport\u001b[0m \u001b[0mfiles\u001b[0m\u001b[0;34m\u001b[0m\u001b[0;34m\u001b[0m\u001b[0m\n\u001b[0;32m----> 2\u001b[0;31m \u001b[0mfiles\u001b[0m\u001b[0;34m.\u001b[0m\u001b[0mupload\u001b[0m\u001b[0;34m(\u001b[0m\u001b[0;34m)\u001b[0m\u001b[0;34m\u001b[0m\u001b[0;34m\u001b[0m\u001b[0m\n\u001b[0m",
            "\u001b[0;32m/usr/local/lib/python3.6/dist-packages/google/colab/files.py\u001b[0m in \u001b[0;36mupload\u001b[0;34m()\u001b[0m\n\u001b[1;32m     70\u001b[0m     result = _output.eval_js(\n\u001b[1;32m     71\u001b[0m         'google.colab._files._uploadFilesContinue(\"{output_id}\")'.format(\n\u001b[0;32m---> 72\u001b[0;31m             output_id=output_id))\n\u001b[0m\u001b[1;32m     73\u001b[0m     \u001b[0;32mif\u001b[0m \u001b[0mresult\u001b[0m\u001b[0;34m[\u001b[0m\u001b[0;34m'action'\u001b[0m\u001b[0;34m]\u001b[0m \u001b[0;34m!=\u001b[0m \u001b[0;34m'append'\u001b[0m\u001b[0;34m:\u001b[0m\u001b[0;34m\u001b[0m\u001b[0;34m\u001b[0m\u001b[0m\n\u001b[1;32m     74\u001b[0m       \u001b[0;31m# JS side uses a generator of promises to process all of the files- some\u001b[0m\u001b[0;34m\u001b[0m\u001b[0;34m\u001b[0m\u001b[0;34m\u001b[0m\u001b[0m\n",
            "\u001b[0;32m/usr/local/lib/python3.6/dist-packages/google/colab/output/_js.py\u001b[0m in \u001b[0;36meval_js\u001b[0;34m(script, ignore_result)\u001b[0m\n\u001b[1;32m     37\u001b[0m   \u001b[0;32mif\u001b[0m \u001b[0mignore_result\u001b[0m\u001b[0;34m:\u001b[0m\u001b[0;34m\u001b[0m\u001b[0;34m\u001b[0m\u001b[0m\n\u001b[1;32m     38\u001b[0m     \u001b[0;32mreturn\u001b[0m\u001b[0;34m\u001b[0m\u001b[0;34m\u001b[0m\u001b[0m\n\u001b[0;32m---> 39\u001b[0;31m   \u001b[0;32mreturn\u001b[0m \u001b[0m_message\u001b[0m\u001b[0;34m.\u001b[0m\u001b[0mread_reply_from_input\u001b[0m\u001b[0;34m(\u001b[0m\u001b[0mrequest_id\u001b[0m\u001b[0;34m)\u001b[0m\u001b[0;34m\u001b[0m\u001b[0;34m\u001b[0m\u001b[0m\n\u001b[0m\u001b[1;32m     40\u001b[0m \u001b[0;34m\u001b[0m\u001b[0m\n\u001b[1;32m     41\u001b[0m \u001b[0;34m\u001b[0m\u001b[0m\n",
            "\u001b[0;32m/usr/local/lib/python3.6/dist-packages/google/colab/_message.py\u001b[0m in \u001b[0;36mread_reply_from_input\u001b[0;34m(message_id, timeout_sec)\u001b[0m\n\u001b[1;32m     99\u001b[0m     \u001b[0mreply\u001b[0m \u001b[0;34m=\u001b[0m \u001b[0m_read_next_input_message\u001b[0m\u001b[0;34m(\u001b[0m\u001b[0;34m)\u001b[0m\u001b[0;34m\u001b[0m\u001b[0;34m\u001b[0m\u001b[0m\n\u001b[1;32m    100\u001b[0m     \u001b[0;32mif\u001b[0m \u001b[0mreply\u001b[0m \u001b[0;34m==\u001b[0m \u001b[0m_NOT_READY\u001b[0m \u001b[0;32mor\u001b[0m \u001b[0;32mnot\u001b[0m \u001b[0misinstance\u001b[0m\u001b[0;34m(\u001b[0m\u001b[0mreply\u001b[0m\u001b[0;34m,\u001b[0m \u001b[0mdict\u001b[0m\u001b[0;34m)\u001b[0m\u001b[0;34m:\u001b[0m\u001b[0;34m\u001b[0m\u001b[0;34m\u001b[0m\u001b[0m\n\u001b[0;32m--> 101\u001b[0;31m       \u001b[0mtime\u001b[0m\u001b[0;34m.\u001b[0m\u001b[0msleep\u001b[0m\u001b[0;34m(\u001b[0m\u001b[0;36m0.025\u001b[0m\u001b[0;34m)\u001b[0m\u001b[0;34m\u001b[0m\u001b[0;34m\u001b[0m\u001b[0m\n\u001b[0m\u001b[1;32m    102\u001b[0m       \u001b[0;32mcontinue\u001b[0m\u001b[0;34m\u001b[0m\u001b[0;34m\u001b[0m\u001b[0m\n\u001b[1;32m    103\u001b[0m     if (reply.get('type') == 'colab_reply' and\n",
            "\u001b[0;31mKeyboardInterrupt\u001b[0m: "
          ]
        }
      ]
    },
    {
      "cell_type": "code",
      "metadata": {
        "id": "s4eiSHBGYEVj",
        "colab_type": "code",
        "outputId": "cd0d2760-5886-4895-dd3a-f8ef6f4c1f51",
        "colab": {}
      },
      "source": [
        "df_train = pd.read_csv('train.csv')\n",
        "df_test = pd.read_csv('test.csv')\n",
        "print('Training data has {} rows and {} columns'.format(df_train.shape[0], df_train.shape[1]))\n",
        "print('Testing data has {} rows and {} columns'.format(df_test.shape[0], df_test.shape[1]))"
      ],
      "execution_count": 0,
      "outputs": [
        {
          "output_type": "stream",
          "text": [
            "Training data has 999 rows and 563 columns\n",
            "Testing data has 999 rows and 563 columns\n"
          ],
          "name": "stdout"
        }
      ]
    },
    {
      "cell_type": "code",
      "metadata": {
        "id": "SM0_J0A1YEVn",
        "colab_type": "code",
        "outputId": "d868a9b2-83b7-4c83-c033-29d8bbe63368",
        "colab": {}
      },
      "source": [
        "df_train.head()"
      ],
      "execution_count": 0,
      "outputs": [
        {
          "output_type": "execute_result",
          "data": {
            "text/html": [
              "<div>\n",
              "<style scoped>\n",
              "    .dataframe tbody tr th:only-of-type {\n",
              "        vertical-align: middle;\n",
              "    }\n",
              "\n",
              "    .dataframe tbody tr th {\n",
              "        vertical-align: top;\n",
              "    }\n",
              "\n",
              "    .dataframe thead th {\n",
              "        text-align: right;\n",
              "    }\n",
              "</style>\n",
              "<table border=\"1\" class=\"dataframe\">\n",
              "  <thead>\n",
              "    <tr style=\"text-align: right;\">\n",
              "      <th></th>\n",
              "      <th>tBodyAcc-mean()-X</th>\n",
              "      <th>tBodyAcc-mean()-Y</th>\n",
              "      <th>tBodyAcc-mean()-Z</th>\n",
              "      <th>tBodyAcc-std()-X</th>\n",
              "      <th>tBodyAcc-std()-Y</th>\n",
              "      <th>tBodyAcc-std()-Z</th>\n",
              "      <th>tBodyAcc-mad()-X</th>\n",
              "      <th>tBodyAcc-mad()-Y</th>\n",
              "      <th>tBodyAcc-mad()-Z</th>\n",
              "      <th>tBodyAcc-max()-X</th>\n",
              "      <th>...</th>\n",
              "      <th>fBodyBodyGyroJerkMag-kurtosis()</th>\n",
              "      <th>angle(tBodyAccMean,gravity)</th>\n",
              "      <th>angle(tBodyAccJerkMean),gravityMean)</th>\n",
              "      <th>angle(tBodyGyroMean,gravityMean)</th>\n",
              "      <th>angle(tBodyGyroJerkMean,gravityMean)</th>\n",
              "      <th>angle(X,gravityMean)</th>\n",
              "      <th>angle(Y,gravityMean)</th>\n",
              "      <th>angle(Z,gravityMean)</th>\n",
              "      <th>subject</th>\n",
              "      <th>Activity</th>\n",
              "    </tr>\n",
              "  </thead>\n",
              "  <tbody>\n",
              "    <tr>\n",
              "      <th>0</th>\n",
              "      <td>0.288585</td>\n",
              "      <td>-0.020294</td>\n",
              "      <td>-0.132905</td>\n",
              "      <td>-0.995279</td>\n",
              "      <td>-0.983111</td>\n",
              "      <td>-0.913526</td>\n",
              "      <td>-0.995112</td>\n",
              "      <td>-0.983185</td>\n",
              "      <td>-0.923527</td>\n",
              "      <td>-0.934724</td>\n",
              "      <td>...</td>\n",
              "      <td>-0.710304</td>\n",
              "      <td>-0.112754</td>\n",
              "      <td>0.030400</td>\n",
              "      <td>-0.464761</td>\n",
              "      <td>-0.018446</td>\n",
              "      <td>-0.841247</td>\n",
              "      <td>0.179941</td>\n",
              "      <td>-0.058627</td>\n",
              "      <td>1</td>\n",
              "      <td>STANDING</td>\n",
              "    </tr>\n",
              "    <tr>\n",
              "      <th>1</th>\n",
              "      <td>0.278419</td>\n",
              "      <td>-0.016411</td>\n",
              "      <td>-0.123520</td>\n",
              "      <td>-0.998245</td>\n",
              "      <td>-0.975300</td>\n",
              "      <td>-0.960322</td>\n",
              "      <td>-0.998807</td>\n",
              "      <td>-0.974914</td>\n",
              "      <td>-0.957686</td>\n",
              "      <td>-0.943068</td>\n",
              "      <td>...</td>\n",
              "      <td>-0.861499</td>\n",
              "      <td>0.053477</td>\n",
              "      <td>-0.007435</td>\n",
              "      <td>-0.732626</td>\n",
              "      <td>0.703511</td>\n",
              "      <td>-0.844788</td>\n",
              "      <td>0.180289</td>\n",
              "      <td>-0.054317</td>\n",
              "      <td>1</td>\n",
              "      <td>STANDING</td>\n",
              "    </tr>\n",
              "    <tr>\n",
              "      <th>2</th>\n",
              "      <td>0.279653</td>\n",
              "      <td>-0.019467</td>\n",
              "      <td>-0.113462</td>\n",
              "      <td>-0.995380</td>\n",
              "      <td>-0.967187</td>\n",
              "      <td>-0.978944</td>\n",
              "      <td>-0.996520</td>\n",
              "      <td>-0.963668</td>\n",
              "      <td>-0.977469</td>\n",
              "      <td>-0.938692</td>\n",
              "      <td>...</td>\n",
              "      <td>-0.760104</td>\n",
              "      <td>-0.118559</td>\n",
              "      <td>0.177899</td>\n",
              "      <td>0.100699</td>\n",
              "      <td>0.808529</td>\n",
              "      <td>-0.848933</td>\n",
              "      <td>0.180637</td>\n",
              "      <td>-0.049118</td>\n",
              "      <td>1</td>\n",
              "      <td>STANDING</td>\n",
              "    </tr>\n",
              "    <tr>\n",
              "      <th>3</th>\n",
              "      <td>0.279174</td>\n",
              "      <td>-0.026201</td>\n",
              "      <td>-0.123283</td>\n",
              "      <td>-0.996091</td>\n",
              "      <td>-0.983403</td>\n",
              "      <td>-0.990675</td>\n",
              "      <td>-0.997099</td>\n",
              "      <td>-0.982750</td>\n",
              "      <td>-0.989302</td>\n",
              "      <td>-0.938692</td>\n",
              "      <td>...</td>\n",
              "      <td>-0.482845</td>\n",
              "      <td>-0.036788</td>\n",
              "      <td>-0.012892</td>\n",
              "      <td>0.640011</td>\n",
              "      <td>-0.485366</td>\n",
              "      <td>-0.848649</td>\n",
              "      <td>0.181935</td>\n",
              "      <td>-0.047663</td>\n",
              "      <td>1</td>\n",
              "      <td>STANDING</td>\n",
              "    </tr>\n",
              "    <tr>\n",
              "      <th>4</th>\n",
              "      <td>0.276629</td>\n",
              "      <td>-0.016570</td>\n",
              "      <td>-0.115362</td>\n",
              "      <td>-0.998139</td>\n",
              "      <td>-0.980817</td>\n",
              "      <td>-0.990482</td>\n",
              "      <td>-0.998321</td>\n",
              "      <td>-0.979672</td>\n",
              "      <td>-0.990441</td>\n",
              "      <td>-0.942469</td>\n",
              "      <td>...</td>\n",
              "      <td>-0.699205</td>\n",
              "      <td>0.123320</td>\n",
              "      <td>0.122542</td>\n",
              "      <td>0.693578</td>\n",
              "      <td>-0.615971</td>\n",
              "      <td>-0.847865</td>\n",
              "      <td>0.185151</td>\n",
              "      <td>-0.043892</td>\n",
              "      <td>1</td>\n",
              "      <td>STANDING</td>\n",
              "    </tr>\n",
              "  </tbody>\n",
              "</table>\n",
              "<p>5 rows × 563 columns</p>\n",
              "</div>"
            ],
            "text/plain": [
              "   tBodyAcc-mean()-X  tBodyAcc-mean()-Y  tBodyAcc-mean()-Z  tBodyAcc-std()-X  \\\n",
              "0           0.288585          -0.020294          -0.132905         -0.995279   \n",
              "1           0.278419          -0.016411          -0.123520         -0.998245   \n",
              "2           0.279653          -0.019467          -0.113462         -0.995380   \n",
              "3           0.279174          -0.026201          -0.123283         -0.996091   \n",
              "4           0.276629          -0.016570          -0.115362         -0.998139   \n",
              "\n",
              "   tBodyAcc-std()-Y  tBodyAcc-std()-Z  tBodyAcc-mad()-X  tBodyAcc-mad()-Y  \\\n",
              "0         -0.983111         -0.913526         -0.995112         -0.983185   \n",
              "1         -0.975300         -0.960322         -0.998807         -0.974914   \n",
              "2         -0.967187         -0.978944         -0.996520         -0.963668   \n",
              "3         -0.983403         -0.990675         -0.997099         -0.982750   \n",
              "4         -0.980817         -0.990482         -0.998321         -0.979672   \n",
              "\n",
              "   tBodyAcc-mad()-Z  tBodyAcc-max()-X    ...     \\\n",
              "0         -0.923527         -0.934724    ...      \n",
              "1         -0.957686         -0.943068    ...      \n",
              "2         -0.977469         -0.938692    ...      \n",
              "3         -0.989302         -0.938692    ...      \n",
              "4         -0.990441         -0.942469    ...      \n",
              "\n",
              "   fBodyBodyGyroJerkMag-kurtosis()  angle(tBodyAccMean,gravity)  \\\n",
              "0                        -0.710304                    -0.112754   \n",
              "1                        -0.861499                     0.053477   \n",
              "2                        -0.760104                    -0.118559   \n",
              "3                        -0.482845                    -0.036788   \n",
              "4                        -0.699205                     0.123320   \n",
              "\n",
              "   angle(tBodyAccJerkMean),gravityMean)  angle(tBodyGyroMean,gravityMean)  \\\n",
              "0                              0.030400                         -0.464761   \n",
              "1                             -0.007435                         -0.732626   \n",
              "2                              0.177899                          0.100699   \n",
              "3                             -0.012892                          0.640011   \n",
              "4                              0.122542                          0.693578   \n",
              "\n",
              "   angle(tBodyGyroJerkMean,gravityMean)  angle(X,gravityMean)  \\\n",
              "0                             -0.018446             -0.841247   \n",
              "1                              0.703511             -0.844788   \n",
              "2                              0.808529             -0.848933   \n",
              "3                             -0.485366             -0.848649   \n",
              "4                             -0.615971             -0.847865   \n",
              "\n",
              "   angle(Y,gravityMean)  angle(Z,gravityMean)  subject  Activity  \n",
              "0              0.179941             -0.058627        1  STANDING  \n",
              "1              0.180289             -0.054317        1  STANDING  \n",
              "2              0.180637             -0.049118        1  STANDING  \n",
              "3              0.181935             -0.047663        1  STANDING  \n",
              "4              0.185151             -0.043892        1  STANDING  \n",
              "\n",
              "[5 rows x 563 columns]"
            ]
          },
          "metadata": {
            "tags": []
          },
          "execution_count": 463
        }
      ]
    },
    {
      "cell_type": "code",
      "metadata": {
        "id": "dw7yr3GgYEVu",
        "colab_type": "code",
        "outputId": "fcfe620d-b234-4781-d7e3-20575ff9c1f2",
        "colab": {}
      },
      "source": [
        "#The trends of the output\n",
        "df_train.Activity.value_counts()"
      ],
      "execution_count": 0,
      "outputs": [
        {
          "output_type": "execute_result",
          "data": {
            "text/plain": [
              "WALKING               209\n",
              "STANDING              179\n",
              "LAYING                164\n",
              "WALKING_UPSTAIRS      159\n",
              "WALKING_DOWNSTAIRS    145\n",
              "SITTING               143\n",
              "Name: Activity, dtype: int64"
            ]
          },
          "metadata": {
            "tags": []
          },
          "execution_count": 464
        }
      ]
    },
    {
      "cell_type": "code",
      "metadata": {
        "id": "nG0syLn4YEVw",
        "colab_type": "code",
        "outputId": "be5ea7f2-f2b5-4b43-bb32-175e1c93cbd7",
        "colab": {}
      },
      "source": [
        "#Checking the distribution of 6 random features\n",
        "plt.subplot(111)\n",
        "sns.kdeplot(data=df_train['tBodyAcc-mean()-X'])\n",
        "plt.show()\n",
        "plt.subplot(111)\n",
        "sns.kdeplot(data=df_train['angle(tBodyAccMean,gravity)'])\n",
        "plt.show()"
      ],
      "execution_count": 0,
      "outputs": [
        {
          "output_type": "display_data",
          "data": {
            "image/png": "[encoded data removed]",
            "text/plain": [
              "<Figure size 432x288 with 1 Axes>"
            ]
          },
          "metadata": {
            "tags": []
          }
        },
        {
          "output_type": "display_data",
          "data": {
            "image/png": "[encoded data removed]",
            "text/plain": [
              "<Figure size 432x288 with 1 Axes>"
            ]
          },
          "metadata": {
            "tags": []
          }
        }
      ]
    },
    {
      "cell_type": "code",
      "metadata": {
        "id": "bgFMVdO2YEV0",
        "colab_type": "code",
        "colab": {}
      },
      "source": [
        "# from scipy.stats import zscore\n",
        "# z = zscore(df_train)\n",
        "# df_train_z = df_train[(z < 5).all(axis=1)]\n",
        "# print(df_train_z.shape)\n",
        "# X = df_train_z.drop('Activity',axis=1)\n",
        "# y = df_train_z.Activity\n",
        "# z1 = zscore(df_test)\n",
        "# df_test_z = df_test[(z1 < 5).all(axis=1)]\n",
        "# print(df_test_z.shape)\n",
        "# X_test = df_test_z.drop('Activity',axis=1)\n",
        "# y_test = df_test_z.Activity"
      ],
      "execution_count": 0,
      "outputs": []
    },
    {
      "cell_type": "code",
      "metadata": {
        "id": "F8zloaQnYEV3",
        "colab_type": "code",
        "colab": {}
      },
      "source": [
        "#The features more or less look normally distributed. We will come back to this later,"
      ],
      "execution_count": 0,
      "outputs": []
    },
    {
      "cell_type": "code",
      "metadata": {
        "id": "ohhnR2WZYEV5",
        "colab_type": "code",
        "outputId": "96044006-149f-43b0-a1a3-193f1db9708f",
        "colab": {}
      },
      "source": [
        "#Checking missing data\n",
        "print(df_train.isnull().any().sum())\n",
        "print(df_test.isnull().any().sum())\n",
        "\n",
        "#No missing data in either set"
      ],
      "execution_count": 0,
      "outputs": [
        {
          "output_type": "stream",
          "text": [
            "0\n",
            "0\n"
          ],
          "name": "stdout"
        }
      ]
    },
    {
      "cell_type": "code",
      "metadata": {
        "id": "Jw0EDIB8YEV8",
        "colab_type": "code",
        "outputId": "5634b485-71f0-4e17-843c-4dee476c6fb9",
        "colab": {}
      },
      "source": [
        "#Creating custom encoding for the output labels\n",
        "all_labels = df_train.Activity.value_counts().index.tolist()\n",
        "label_encoding = {val:index for index, val in enumerate(all_labels)}\n",
        "print(label_encoding)"
      ],
      "execution_count": 0,
      "outputs": [
        {
          "output_type": "stream",
          "text": [
            "{'WALKING': 0, 'STANDING': 1, 'LAYING': 2, 'WALKING_UPSTAIRS': 3, 'WALKING_DOWNSTAIRS': 4, 'SITTING': 5}\n"
          ],
          "name": "stdout"
        }
      ]
    },
    {
      "cell_type": "code",
      "metadata": {
        "id": "YALapsIHYEWA",
        "colab_type": "code",
        "outputId": "bea88cf1-9263-4975-a7d3-1bbc69a46919",
        "colab": {}
      },
      "source": [
        "#Dropping subject and encoding activities\n",
        "df_train.drop('subject', axis='columns', inplace=True)\n",
        "\n",
        "# Label encoding custom\n",
        "\n",
        "for act in list(label_encoding.keys()):\n",
        "    df_train.loc [ df_train.Activity == act , ['Activity']] = label_encoding[act]\n",
        "df_train.Activity.value_counts()"
      ],
      "execution_count": 0,
      "outputs": [
        {
          "output_type": "execute_result",
          "data": {
            "text/plain": [
              "0    209\n",
              "1    179\n",
              "2    164\n",
              "3    159\n",
              "4    145\n",
              "5    143\n",
              "Name: Activity, dtype: int64"
            ]
          },
          "metadata": {
            "tags": []
          },
          "execution_count": 470
        }
      ]
    },
    {
      "cell_type": "code",
      "metadata": {
        "id": "dyBdU8sfYEWE",
        "colab_type": "code",
        "colab": {}
      },
      "source": [
        "#We will first use kFold to check the models with a good perofrmane. Later we will optimize for the best perofrming model\n",
        "#defining functions for stratified kFold\n",
        "from sklearn.model_selection import StratifiedKFold\n",
        "from sklearn.metrics import precision_recall_fscore_support\n",
        "def run_kfold (X, y, model,cv):\n",
        "    sf = StratifiedKFold(n_splits=cv)\n",
        "    prec_train_all, rec_train_all, f1_train_all = [], [], []\n",
        "    prec_test_all, rec_test_all, f1_test_all = [], [], []\n",
        "    for train_index, test_index in sf.split(X ,y):\n",
        "        X_traincv, X_testcv = X.values[train_index] , X.values[test_index]\n",
        "        y_traincv, y_testcv = y.values[train_index] , y.values[test_index]\n",
        "        model.fit(X_traincv, y_traincv)\n",
        "        ytrain_predcv = model.predict(X_traincv)\n",
        "        ytest_predcv = model.predict(X_testcv)\n",
        "        scores_train = precision_recall_fscore_support(y_traincv , ytrain_predcv)\n",
        "        scores_test = precision_recall_fscore_support(y_testcv , ytest_predcv)\n",
        "        prec_trian = scores_train[0] ; rec_train = scores_train[1] ; f1_train = scores_train[2]\n",
        "        prec_test = scores_test[0] ; rec_test = scores_test[1] ; f1_test = scores_test[2]\n",
        "        prec_train_all.append(prec_trian) ; rec_train_all.append(rec_train); f1_train_all.append(f1_train)\n",
        "        prec_test_all.append(prec_test) ; rec_test_all.append(rec_test); f1_test_all.append(f1_test)\n",
        "    #End for train_index\n",
        "    train_prec_mean = np.average(prec_train_all, axis=0) ; train_rec_mean = np.average(rec_train_all, axis=0); train_f1_mean = np.average(f1_train_all, axis=0)\n",
        "    test_prec_mean = np.average(prec_test_all, axis=0) ; test_rec_mean = np.average(rec_test_all, axis=0); test_f1_mean = np.average(f1_test_all, axis=0)\n",
        "    return train_prec_mean, train_rec_mean, train_f1_mean, test_prec_mean, test_rec_mean, test_f1_mean\n",
        "#End def run_kFold"
      ],
      "execution_count": 0,
      "outputs": []
    },
    {
      "cell_type": "code",
      "metadata": {
        "id": "4LrkgwyuYEWH",
        "colab_type": "code",
        "outputId": "526bcad5-4e0c-404f-9f05-2b5823c5ca53",
        "colab": {}
      },
      "source": [
        "#Separating the features and output\n",
        "X = df_train.drop('Activity', axis=1)\n",
        "y = df_train.Activity\n",
        "print(X.shape)\n",
        "print(y.shape)"
      ],
      "execution_count": 0,
      "outputs": [
        {
          "output_type": "stream",
          "text": [
            "(999, 561)\n",
            "(999,)\n"
          ],
          "name": "stdout"
        }
      ]
    },
    {
      "cell_type": "code",
      "metadata": {
        "id": "bUeZ9oMqYEWK",
        "colab_type": "code",
        "colab": {}
      },
      "source": [
        "#Initializing the models\n",
        "from sklearn.linear_model import LogisticRegression\n",
        "from sklearn.tree import DecisionTreeClassifier\n",
        "from sklearn.ensemble import RandomForestClassifier\n",
        "from sklearn.svm import SVC\n",
        "from sklearn.naive_bayes import MultinomialNB"
      ],
      "execution_count": 0,
      "outputs": []
    },
    {
      "cell_type": "code",
      "metadata": {
        "id": "MLzqjZgNYEWO",
        "colab_type": "code",
        "outputId": "3369a75a-872a-4f7b-8b5a-77d6362517bf",
        "colab": {}
      },
      "source": [
        "lr  = LogisticRegression()\n",
        "dt = DecisionTreeClassifier(max_depth=10)\n",
        "rf = RandomForestClassifier(max_depth=10)\n",
        "models_all = {'LogisticRegression':lr, 'DecTree':dt, 'RanForest':rf}\n",
        "cols = ['Activity','MeanPrec_Train','MeanPrec_Test','MeanRecal_Train','MeanRecal_Test','MeanF1_Train','MeanF1_Test','MODEL']\n",
        "df_MVf = pd.DataFrame(columns=cols)\n",
        "counter = 0\n",
        "for indexer ,mod in enumerate(list(models_all.values())):\n",
        "    train_pr, train_rec, train_f1, test_pr, test_rec, test_f1 = run_kfold(X, y, mod, 10)\n",
        "    for labs in range(len(label_encoding)):\n",
        "        list1 = [labs,train_pr[labs], test_pr[labs], train_rec[labs], test_rec[labs], train_f1[labs], test_f1[labs],list(models_all.keys())[indexer]]\n",
        "        df_MVf.loc[counter] = list1\n",
        "        counter += 1\n",
        "    #End for labs\n",
        "#End for indexer"
      ],
      "execution_count": 0,
      "outputs": [
        {
          "output_type": "stream",
          "text": [
            "/anaconda3/lib/python3.6/site-packages/sklearn/linear_model/logistic.py:433: FutureWarning: Default solver will be changed to 'lbfgs' in 0.22. Specify a solver to silence this warning.\n",
            "  FutureWarning)\n",
            "/anaconda3/lib/python3.6/site-packages/sklearn/linear_model/logistic.py:460: FutureWarning: Default multi_class will be changed to 'auto' in 0.22. Specify the multi_class option to silence this warning.\n",
            "  \"this warning.\", FutureWarning)\n",
            "/anaconda3/lib/python3.6/site-packages/sklearn/linear_model/logistic.py:433: FutureWarning: Default solver will be changed to 'lbfgs' in 0.22. Specify a solver to silence this warning.\n",
            "  FutureWarning)\n",
            "/anaconda3/lib/python3.6/site-packages/sklearn/linear_model/logistic.py:460: FutureWarning: Default multi_class will be changed to 'auto' in 0.22. Specify the multi_class option to silence this warning.\n",
            "  \"this warning.\", FutureWarning)\n",
            "/anaconda3/lib/python3.6/site-packages/sklearn/linear_model/logistic.py:433: FutureWarning: Default solver will be changed to 'lbfgs' in 0.22. Specify a solver to silence this warning.\n",
            "  FutureWarning)\n",
            "/anaconda3/lib/python3.6/site-packages/sklearn/linear_model/logistic.py:460: FutureWarning: Default multi_class will be changed to 'auto' in 0.22. Specify the multi_class option to silence this warning.\n",
            "  \"this warning.\", FutureWarning)\n",
            "/anaconda3/lib/python3.6/site-packages/sklearn/linear_model/logistic.py:433: FutureWarning: Default solver will be changed to 'lbfgs' in 0.22. Specify a solver to silence this warning.\n",
            "  FutureWarning)\n",
            "/anaconda3/lib/python3.6/site-packages/sklearn/linear_model/logistic.py:460: FutureWarning: Default multi_class will be changed to 'auto' in 0.22. Specify the multi_class option to silence this warning.\n",
            "  \"this warning.\", FutureWarning)\n",
            "/anaconda3/lib/python3.6/site-packages/sklearn/linear_model/logistic.py:433: FutureWarning: Default solver will be changed to 'lbfgs' in 0.22. Specify a solver to silence this warning.\n",
            "  FutureWarning)\n",
            "/anaconda3/lib/python3.6/site-packages/sklearn/linear_model/logistic.py:460: FutureWarning: Default multi_class will be changed to 'auto' in 0.22. Specify the multi_class option to silence this warning.\n",
            "  \"this warning.\", FutureWarning)\n",
            "/anaconda3/lib/python3.6/site-packages/sklearn/linear_model/logistic.py:433: FutureWarning: Default solver will be changed to 'lbfgs' in 0.22. Specify a solver to silence this warning.\n",
            "  FutureWarning)\n",
            "/anaconda3/lib/python3.6/site-packages/sklearn/linear_model/logistic.py:460: FutureWarning: Default multi_class will be changed to 'auto' in 0.22. Specify the multi_class option to silence this warning.\n",
            "  \"this warning.\", FutureWarning)\n",
            "/anaconda3/lib/python3.6/site-packages/sklearn/linear_model/logistic.py:433: FutureWarning: Default solver will be changed to 'lbfgs' in 0.22. Specify a solver to silence this warning.\n",
            "  FutureWarning)\n",
            "/anaconda3/lib/python3.6/site-packages/sklearn/linear_model/logistic.py:460: FutureWarning: Default multi_class will be changed to 'auto' in 0.22. Specify the multi_class option to silence this warning.\n",
            "  \"this warning.\", FutureWarning)\n",
            "/anaconda3/lib/python3.6/site-packages/sklearn/linear_model/logistic.py:433: FutureWarning: Default solver will be changed to 'lbfgs' in 0.22. Specify a solver to silence this warning.\n",
            "  FutureWarning)\n",
            "/anaconda3/lib/python3.6/site-packages/sklearn/linear_model/logistic.py:460: FutureWarning: Default multi_class will be changed to 'auto' in 0.22. Specify the multi_class option to silence this warning.\n",
            "  \"this warning.\", FutureWarning)\n",
            "/anaconda3/lib/python3.6/site-packages/sklearn/linear_model/logistic.py:433: FutureWarning: Default solver will be changed to 'lbfgs' in 0.22. Specify a solver to silence this warning.\n",
            "  FutureWarning)\n",
            "/anaconda3/lib/python3.6/site-packages/sklearn/linear_model/logistic.py:460: FutureWarning: Default multi_class will be changed to 'auto' in 0.22. Specify the multi_class option to silence this warning.\n",
            "  \"this warning.\", FutureWarning)\n",
            "/anaconda3/lib/python3.6/site-packages/sklearn/linear_model/logistic.py:433: FutureWarning: Default solver will be changed to 'lbfgs' in 0.22. Specify a solver to silence this warning.\n",
            "  FutureWarning)\n",
            "/anaconda3/lib/python3.6/site-packages/sklearn/linear_model/logistic.py:460: FutureWarning: Default multi_class will be changed to 'auto' in 0.22. Specify the multi_class option to silence this warning.\n",
            "  \"this warning.\", FutureWarning)\n",
            "/anaconda3/lib/python3.6/site-packages/sklearn/ensemble/forest.py:246: FutureWarning: The default value of n_estimators will change from 10 in version 0.20 to 100 in 0.22.\n",
            "  \"10 in version 0.20 to 100 in 0.22.\", FutureWarning)\n"
          ],
          "name": "stderr"
        }
      ]
    },
    {
      "cell_type": "code",
      "metadata": {
        "id": "VstgCF-DYEWR",
        "colab_type": "code",
        "outputId": "58871de9-7ec3-4a4f-8d7e-04ff7609d9b5",
        "colab": {}
      },
      "source": [
        "# Decoding output\n",
        "\n",
        "for decod in range(len(label_encoding)):\n",
        "    df_MVf.loc [ df_MVf.Activity == decod , ['Activity']] = list(label_encoding.keys())[decod]\n",
        "df_MVf"
      ],
      "execution_count": 0,
      "outputs": [
        {
          "output_type": "execute_result",
          "data": {
            "text/html": [
              "<div>\n",
              "<style scoped>\n",
              "    .dataframe tbody tr th:only-of-type {\n",
              "        vertical-align: middle;\n",
              "    }\n",
              "\n",
              "    .dataframe tbody tr th {\n",
              "        vertical-align: top;\n",
              "    }\n",
              "\n",
              "    .dataframe thead th {\n",
              "        text-align: right;\n",
              "    }\n",
              "</style>\n",
              "<table border=\"1\" class=\"dataframe\">\n",
              "  <thead>\n",
              "    <tr style=\"text-align: right;\">\n",
              "      <th></th>\n",
              "      <th>Activity</th>\n",
              "      <th>MeanPrec_Train</th>\n",
              "      <th>MeanPrec_Test</th>\n",
              "      <th>MeanRecal_Train</th>\n",
              "      <th>MeanRecal_Test</th>\n",
              "      <th>MeanF1_Train</th>\n",
              "      <th>MeanF1_Test</th>\n",
              "      <th>MODEL</th>\n",
              "    </tr>\n",
              "  </thead>\n",
              "  <tbody>\n",
              "    <tr>\n",
              "      <th>0</th>\n",
              "      <td>WALKING</td>\n",
              "      <td>1.000000</td>\n",
              "      <td>1.000000</td>\n",
              "      <td>1.000000</td>\n",
              "      <td>0.995000</td>\n",
              "      <td>1.000000</td>\n",
              "      <td>0.997436</td>\n",
              "      <td>LogisticRegression</td>\n",
              "    </tr>\n",
              "    <tr>\n",
              "      <th>1</th>\n",
              "      <td>STANDING</td>\n",
              "      <td>1.000000</td>\n",
              "      <td>0.953784</td>\n",
              "      <td>1.000000</td>\n",
              "      <td>0.988235</td>\n",
              "      <td>1.000000</td>\n",
              "      <td>0.970056</td>\n",
              "      <td>LogisticRegression</td>\n",
              "    </tr>\n",
              "    <tr>\n",
              "      <th>2</th>\n",
              "      <td>LAYING</td>\n",
              "      <td>1.000000</td>\n",
              "      <td>1.000000</td>\n",
              "      <td>1.000000</td>\n",
              "      <td>1.000000</td>\n",
              "      <td>1.000000</td>\n",
              "      <td>1.000000</td>\n",
              "      <td>LogisticRegression</td>\n",
              "    </tr>\n",
              "    <tr>\n",
              "      <th>3</th>\n",
              "      <td>WALKING_UPSTAIRS</td>\n",
              "      <td>1.000000</td>\n",
              "      <td>0.994118</td>\n",
              "      <td>1.000000</td>\n",
              "      <td>1.000000</td>\n",
              "      <td>1.000000</td>\n",
              "      <td>0.996970</td>\n",
              "      <td>LogisticRegression</td>\n",
              "    </tr>\n",
              "    <tr>\n",
              "      <th>4</th>\n",
              "      <td>WALKING_DOWNSTAIRS</td>\n",
              "      <td>1.000000</td>\n",
              "      <td>0.993333</td>\n",
              "      <td>1.000000</td>\n",
              "      <td>1.000000</td>\n",
              "      <td>1.000000</td>\n",
              "      <td>0.996552</td>\n",
              "      <td>LogisticRegression</td>\n",
              "    </tr>\n",
              "    <tr>\n",
              "      <th>5</th>\n",
              "      <td>SITTING</td>\n",
              "      <td>1.000000</td>\n",
              "      <td>0.984615</td>\n",
              "      <td>1.000000</td>\n",
              "      <td>0.928571</td>\n",
              "      <td>1.000000</td>\n",
              "      <td>0.954382</td>\n",
              "      <td>LogisticRegression</td>\n",
              "    </tr>\n",
              "    <tr>\n",
              "      <th>6</th>\n",
              "      <td>WALKING</td>\n",
              "      <td>1.000000</td>\n",
              "      <td>0.947207</td>\n",
              "      <td>1.000000</td>\n",
              "      <td>0.965952</td>\n",
              "      <td>1.000000</td>\n",
              "      <td>0.953609</td>\n",
              "      <td>DecTree</td>\n",
              "    </tr>\n",
              "    <tr>\n",
              "      <th>7</th>\n",
              "      <td>STANDING</td>\n",
              "      <td>1.000000</td>\n",
              "      <td>0.965159</td>\n",
              "      <td>1.000000</td>\n",
              "      <td>0.877778</td>\n",
              "      <td>1.000000</td>\n",
              "      <td>0.896463</td>\n",
              "      <td>DecTree</td>\n",
              "    </tr>\n",
              "    <tr>\n",
              "      <th>8</th>\n",
              "      <td>LAYING</td>\n",
              "      <td>1.000000</td>\n",
              "      <td>1.000000</td>\n",
              "      <td>1.000000</td>\n",
              "      <td>0.988235</td>\n",
              "      <td>1.000000</td>\n",
              "      <td>0.993750</td>\n",
              "      <td>DecTree</td>\n",
              "    </tr>\n",
              "    <tr>\n",
              "      <th>9</th>\n",
              "      <td>WALKING_UPSTAIRS</td>\n",
              "      <td>1.000000</td>\n",
              "      <td>0.945779</td>\n",
              "      <td>1.000000</td>\n",
              "      <td>0.916250</td>\n",
              "      <td>1.000000</td>\n",
              "      <td>0.922068</td>\n",
              "      <td>DecTree</td>\n",
              "    </tr>\n",
              "    <tr>\n",
              "      <th>10</th>\n",
              "      <td>WALKING_DOWNSTAIRS</td>\n",
              "      <td>1.000000</td>\n",
              "      <td>0.954203</td>\n",
              "      <td>1.000000</td>\n",
              "      <td>0.931905</td>\n",
              "      <td>1.000000</td>\n",
              "      <td>0.935323</td>\n",
              "      <td>DecTree</td>\n",
              "    </tr>\n",
              "    <tr>\n",
              "      <th>11</th>\n",
              "      <td>SITTING</td>\n",
              "      <td>1.000000</td>\n",
              "      <td>0.906000</td>\n",
              "      <td>1.000000</td>\n",
              "      <td>0.942857</td>\n",
              "      <td>1.000000</td>\n",
              "      <td>0.910687</td>\n",
              "      <td>DecTree</td>\n",
              "    </tr>\n",
              "    <tr>\n",
              "      <th>12</th>\n",
              "      <td>WALKING</td>\n",
              "      <td>0.998947</td>\n",
              "      <td>0.995000</td>\n",
              "      <td>1.000000</td>\n",
              "      <td>0.970952</td>\n",
              "      <td>0.999471</td>\n",
              "      <td>0.982542</td>\n",
              "      <td>RanForest</td>\n",
              "    </tr>\n",
              "    <tr>\n",
              "      <th>13</th>\n",
              "      <td>STANDING</td>\n",
              "      <td>0.996304</td>\n",
              "      <td>0.904105</td>\n",
              "      <td>1.000000</td>\n",
              "      <td>0.950000</td>\n",
              "      <td>0.998144</td>\n",
              "      <td>0.922522</td>\n",
              "      <td>RanForest</td>\n",
              "    </tr>\n",
              "    <tr>\n",
              "      <th>14</th>\n",
              "      <td>LAYING</td>\n",
              "      <td>1.000000</td>\n",
              "      <td>1.000000</td>\n",
              "      <td>1.000000</td>\n",
              "      <td>0.988235</td>\n",
              "      <td>1.000000</td>\n",
              "      <td>0.993750</td>\n",
              "      <td>RanForest</td>\n",
              "    </tr>\n",
              "    <tr>\n",
              "      <th>15</th>\n",
              "      <td>WALKING_UPSTAIRS</td>\n",
              "      <td>0.999306</td>\n",
              "      <td>0.946196</td>\n",
              "      <td>1.000000</td>\n",
              "      <td>0.940833</td>\n",
              "      <td>0.999652</td>\n",
              "      <td>0.934346</td>\n",
              "      <td>RanForest</td>\n",
              "    </tr>\n",
              "    <tr>\n",
              "      <th>16</th>\n",
              "      <td>WALKING_DOWNSTAIRS</td>\n",
              "      <td>1.000000</td>\n",
              "      <td>0.940870</td>\n",
              "      <td>0.997692</td>\n",
              "      <td>0.959048</td>\n",
              "      <td>0.998839</td>\n",
              "      <td>0.943594</td>\n",
              "      <td>RanForest</td>\n",
              "    </tr>\n",
              "    <tr>\n",
              "      <th>17</th>\n",
              "      <td>SITTING</td>\n",
              "      <td>1.000000</td>\n",
              "      <td>0.932798</td>\n",
              "      <td>0.995331</td>\n",
              "      <td>0.850000</td>\n",
              "      <td>0.997653</td>\n",
              "      <td>0.874314</td>\n",
              "      <td>RanForest</td>\n",
              "    </tr>\n",
              "  </tbody>\n",
              "</table>\n",
              "</div>"
            ],
            "text/plain": [
              "              Activity  MeanPrec_Train  MeanPrec_Test  MeanRecal_Train  \\\n",
              "0              WALKING        1.000000       1.000000         1.000000   \n",
              "1             STANDING        1.000000       0.953784         1.000000   \n",
              "2               LAYING        1.000000       1.000000         1.000000   \n",
              "3     WALKING_UPSTAIRS        1.000000       0.994118         1.000000   \n",
              "4   WALKING_DOWNSTAIRS        1.000000       0.993333         1.000000   \n",
              "5              SITTING        1.000000       0.984615         1.000000   \n",
              "6              WALKING        1.000000       0.947207         1.000000   \n",
              "7             STANDING        1.000000       0.965159         1.000000   \n",
              "8               LAYING        1.000000       1.000000         1.000000   \n",
              "9     WALKING_UPSTAIRS        1.000000       0.945779         1.000000   \n",
              "10  WALKING_DOWNSTAIRS        1.000000       0.954203         1.000000   \n",
              "11             SITTING        1.000000       0.906000         1.000000   \n",
              "12             WALKING        0.998947       0.995000         1.000000   \n",
              "13            STANDING        0.996304       0.904105         1.000000   \n",
              "14              LAYING        1.000000       1.000000         1.000000   \n",
              "15    WALKING_UPSTAIRS        0.999306       0.946196         1.000000   \n",
              "16  WALKING_DOWNSTAIRS        1.000000       0.940870         0.997692   \n",
              "17             SITTING        1.000000       0.932798         0.995331   \n",
              "\n",
              "    MeanRecal_Test  MeanF1_Train  MeanF1_Test               MODEL  \n",
              "0         0.995000      1.000000     0.997436  LogisticRegression  \n",
              "1         0.988235      1.000000     0.970056  LogisticRegression  \n",
              "2         1.000000      1.000000     1.000000  LogisticRegression  \n",
              "3         1.000000      1.000000     0.996970  LogisticRegression  \n",
              "4         1.000000      1.000000     0.996552  LogisticRegression  \n",
              "5         0.928571      1.000000     0.954382  LogisticRegression  \n",
              "6         0.965952      1.000000     0.953609             DecTree  \n",
              "7         0.877778      1.000000     0.896463             DecTree  \n",
              "8         0.988235      1.000000     0.993750             DecTree  \n",
              "9         0.916250      1.000000     0.922068             DecTree  \n",
              "10        0.931905      1.000000     0.935323             DecTree  \n",
              "11        0.942857      1.000000     0.910687             DecTree  \n",
              "12        0.970952      0.999471     0.982542           RanForest  \n",
              "13        0.950000      0.998144     0.922522           RanForest  \n",
              "14        0.988235      1.000000     0.993750           RanForest  \n",
              "15        0.940833      0.999652     0.934346           RanForest  \n",
              "16        0.959048      0.998839     0.943594           RanForest  \n",
              "17        0.850000      0.997653     0.874314           RanForest  "
            ]
          },
          "metadata": {
            "tags": []
          },
          "execution_count": 475
        }
      ]
    },
    {
      "cell_type": "code",
      "metadata": {
        "id": "pc4KaZRrYEWX",
        "colab_type": "code",
        "outputId": "0e159175-d5db-48ae-fa38-e460109c25e3",
        "colab": {}
      },
      "source": [
        "#Checking the best model w.r.t each activity\n",
        "#Walking\n",
        "df_MVf.loc[df_MVf.Activity=='WALKING' , ['MeanF1_Train','MeanF1_Test', 'MODEL']]"
      ],
      "execution_count": 0,
      "outputs": [
        {
          "output_type": "execute_result",
          "data": {
            "text/html": [
              "<div>\n",
              "<style scoped>\n",
              "    .dataframe tbody tr th:only-of-type {\n",
              "        vertical-align: middle;\n",
              "    }\n",
              "\n",
              "    .dataframe tbody tr th {\n",
              "        vertical-align: top;\n",
              "    }\n",
              "\n",
              "    .dataframe thead th {\n",
              "        text-align: right;\n",
              "    }\n",
              "</style>\n",
              "<table border=\"1\" class=\"dataframe\">\n",
              "  <thead>\n",
              "    <tr style=\"text-align: right;\">\n",
              "      <th></th>\n",
              "      <th>MeanF1_Train</th>\n",
              "      <th>MeanF1_Test</th>\n",
              "      <th>MODEL</th>\n",
              "    </tr>\n",
              "  </thead>\n",
              "  <tbody>\n",
              "    <tr>\n",
              "      <th>0</th>\n",
              "      <td>1.000000</td>\n",
              "      <td>0.997436</td>\n",
              "      <td>LogisticRegression</td>\n",
              "    </tr>\n",
              "    <tr>\n",
              "      <th>6</th>\n",
              "      <td>1.000000</td>\n",
              "      <td>0.953609</td>\n",
              "      <td>DecTree</td>\n",
              "    </tr>\n",
              "    <tr>\n",
              "      <th>12</th>\n",
              "      <td>0.999471</td>\n",
              "      <td>0.982542</td>\n",
              "      <td>RanForest</td>\n",
              "    </tr>\n",
              "  </tbody>\n",
              "</table>\n",
              "</div>"
            ],
            "text/plain": [
              "    MeanF1_Train  MeanF1_Test               MODEL\n",
              "0       1.000000     0.997436  LogisticRegression\n",
              "6       1.000000     0.953609             DecTree\n",
              "12      0.999471     0.982542           RanForest"
            ]
          },
          "metadata": {
            "tags": []
          },
          "execution_count": 476
        }
      ]
    },
    {
      "cell_type": "code",
      "metadata": {
        "id": "_zxdz1RgYEWa",
        "colab_type": "code",
        "outputId": "bc9260f8-daee-4fa5-d7d9-45f1122ad827",
        "colab": {}
      },
      "source": [
        "#Checking the best model w.r.t each activity\n",
        "#Standing\n",
        "df_MVf.loc[df_MVf.Activity=='STANDING' , ['MeanF1_Train','MeanF1_Test', 'MODEL']]"
      ],
      "execution_count": 0,
      "outputs": [
        {
          "output_type": "execute_result",
          "data": {
            "text/html": [
              "<div>\n",
              "<style scoped>\n",
              "    .dataframe tbody tr th:only-of-type {\n",
              "        vertical-align: middle;\n",
              "    }\n",
              "\n",
              "    .dataframe tbody tr th {\n",
              "        vertical-align: top;\n",
              "    }\n",
              "\n",
              "    .dataframe thead th {\n",
              "        text-align: right;\n",
              "    }\n",
              "</style>\n",
              "<table border=\"1\" class=\"dataframe\">\n",
              "  <thead>\n",
              "    <tr style=\"text-align: right;\">\n",
              "      <th></th>\n",
              "      <th>MeanF1_Train</th>\n",
              "      <th>MeanF1_Test</th>\n",
              "      <th>MODEL</th>\n",
              "    </tr>\n",
              "  </thead>\n",
              "  <tbody>\n",
              "    <tr>\n",
              "      <th>1</th>\n",
              "      <td>1.000000</td>\n",
              "      <td>0.970056</td>\n",
              "      <td>LogisticRegression</td>\n",
              "    </tr>\n",
              "    <tr>\n",
              "      <th>7</th>\n",
              "      <td>1.000000</td>\n",
              "      <td>0.896463</td>\n",
              "      <td>DecTree</td>\n",
              "    </tr>\n",
              "    <tr>\n",
              "      <th>13</th>\n",
              "      <td>0.998144</td>\n",
              "      <td>0.922522</td>\n",
              "      <td>RanForest</td>\n",
              "    </tr>\n",
              "  </tbody>\n",
              "</table>\n",
              "</div>"
            ],
            "text/plain": [
              "    MeanF1_Train  MeanF1_Test               MODEL\n",
              "1       1.000000     0.970056  LogisticRegression\n",
              "7       1.000000     0.896463             DecTree\n",
              "13      0.998144     0.922522           RanForest"
            ]
          },
          "metadata": {
            "tags": []
          },
          "execution_count": 477
        }
      ]
    },
    {
      "cell_type": "code",
      "metadata": {
        "id": "r8CtZOH2YEWg",
        "colab_type": "code",
        "outputId": "af5cc051-95df-40b8-b7b7-409880d040b6",
        "colab": {}
      },
      "source": [
        "#Checking the best model w.r.t each activity\n",
        "#Laying\n",
        "df_MVf.loc[df_MVf.Activity=='LAYING' , ['MeanF1_Train','MeanF1_Test', 'MODEL']]"
      ],
      "execution_count": 0,
      "outputs": [
        {
          "output_type": "execute_result",
          "data": {
            "text/html": [
              "<div>\n",
              "<style scoped>\n",
              "    .dataframe tbody tr th:only-of-type {\n",
              "        vertical-align: middle;\n",
              "    }\n",
              "\n",
              "    .dataframe tbody tr th {\n",
              "        vertical-align: top;\n",
              "    }\n",
              "\n",
              "    .dataframe thead th {\n",
              "        text-align: right;\n",
              "    }\n",
              "</style>\n",
              "<table border=\"1\" class=\"dataframe\">\n",
              "  <thead>\n",
              "    <tr style=\"text-align: right;\">\n",
              "      <th></th>\n",
              "      <th>MeanF1_Train</th>\n",
              "      <th>MeanF1_Test</th>\n",
              "      <th>MODEL</th>\n",
              "    </tr>\n",
              "  </thead>\n",
              "  <tbody>\n",
              "    <tr>\n",
              "      <th>2</th>\n",
              "      <td>1.0</td>\n",
              "      <td>1.00000</td>\n",
              "      <td>LogisticRegression</td>\n",
              "    </tr>\n",
              "    <tr>\n",
              "      <th>8</th>\n",
              "      <td>1.0</td>\n",
              "      <td>0.99375</td>\n",
              "      <td>DecTree</td>\n",
              "    </tr>\n",
              "    <tr>\n",
              "      <th>14</th>\n",
              "      <td>1.0</td>\n",
              "      <td>0.99375</td>\n",
              "      <td>RanForest</td>\n",
              "    </tr>\n",
              "  </tbody>\n",
              "</table>\n",
              "</div>"
            ],
            "text/plain": [
              "    MeanF1_Train  MeanF1_Test               MODEL\n",
              "2            1.0      1.00000  LogisticRegression\n",
              "8            1.0      0.99375             DecTree\n",
              "14           1.0      0.99375           RanForest"
            ]
          },
          "metadata": {
            "tags": []
          },
          "execution_count": 478
        }
      ]
    },
    {
      "cell_type": "code",
      "metadata": {
        "id": "M6QhrXbcYEWp",
        "colab_type": "code",
        "outputId": "4dff9a0b-bc54-45d1-af0c-f549d2782681",
        "colab": {}
      },
      "source": [
        "#Checking the best model w.r.t each activity\n",
        "#WALKING_UPSTAIRS\n",
        "df_MVf.loc[df_MVf.Activity=='WALKING_UPSTAIRS' , ['MeanF1_Train','MeanF1_Test', 'MODEL']]"
      ],
      "execution_count": 0,
      "outputs": [
        {
          "output_type": "execute_result",
          "data": {
            "text/html": [
              "<div>\n",
              "<style scoped>\n",
              "    .dataframe tbody tr th:only-of-type {\n",
              "        vertical-align: middle;\n",
              "    }\n",
              "\n",
              "    .dataframe tbody tr th {\n",
              "        vertical-align: top;\n",
              "    }\n",
              "\n",
              "    .dataframe thead th {\n",
              "        text-align: right;\n",
              "    }\n",
              "</style>\n",
              "<table border=\"1\" class=\"dataframe\">\n",
              "  <thead>\n",
              "    <tr style=\"text-align: right;\">\n",
              "      <th></th>\n",
              "      <th>MeanF1_Train</th>\n",
              "      <th>MeanF1_Test</th>\n",
              "      <th>MODEL</th>\n",
              "    </tr>\n",
              "  </thead>\n",
              "  <tbody>\n",
              "    <tr>\n",
              "      <th>3</th>\n",
              "      <td>1.000000</td>\n",
              "      <td>0.996970</td>\n",
              "      <td>LogisticRegression</td>\n",
              "    </tr>\n",
              "    <tr>\n",
              "      <th>9</th>\n",
              "      <td>1.000000</td>\n",
              "      <td>0.922068</td>\n",
              "      <td>DecTree</td>\n",
              "    </tr>\n",
              "    <tr>\n",
              "      <th>15</th>\n",
              "      <td>0.999652</td>\n",
              "      <td>0.934346</td>\n",
              "      <td>RanForest</td>\n",
              "    </tr>\n",
              "  </tbody>\n",
              "</table>\n",
              "</div>"
            ],
            "text/plain": [
              "    MeanF1_Train  MeanF1_Test               MODEL\n",
              "3       1.000000     0.996970  LogisticRegression\n",
              "9       1.000000     0.922068             DecTree\n",
              "15      0.999652     0.934346           RanForest"
            ]
          },
          "metadata": {
            "tags": []
          },
          "execution_count": 479
        }
      ]
    },
    {
      "cell_type": "code",
      "metadata": {
        "id": "A9WQ4CL_YEWs",
        "colab_type": "code",
        "outputId": "0cd04631-3d17-4e71-dd84-82d1f4820cb7",
        "colab": {}
      },
      "source": [
        "#Checking the best model w.r.t each activity\n",
        "#WALKING_DOWNSTAIRS\n",
        "df_MVf.loc[df_MVf.Activity=='WALKING_DOWNSTAIRS' , ['MeanF1_Train','MeanF1_Test', 'MODEL']]"
      ],
      "execution_count": 0,
      "outputs": [
        {
          "output_type": "execute_result",
          "data": {
            "text/html": [
              "<div>\n",
              "<style scoped>\n",
              "    .dataframe tbody tr th:only-of-type {\n",
              "        vertical-align: middle;\n",
              "    }\n",
              "\n",
              "    .dataframe tbody tr th {\n",
              "        vertical-align: top;\n",
              "    }\n",
              "\n",
              "    .dataframe thead th {\n",
              "        text-align: right;\n",
              "    }\n",
              "</style>\n",
              "<table border=\"1\" class=\"dataframe\">\n",
              "  <thead>\n",
              "    <tr style=\"text-align: right;\">\n",
              "      <th></th>\n",
              "      <th>MeanF1_Train</th>\n",
              "      <th>MeanF1_Test</th>\n",
              "      <th>MODEL</th>\n",
              "    </tr>\n",
              "  </thead>\n",
              "  <tbody>\n",
              "    <tr>\n",
              "      <th>4</th>\n",
              "      <td>1.000000</td>\n",
              "      <td>0.996552</td>\n",
              "      <td>LogisticRegression</td>\n",
              "    </tr>\n",
              "    <tr>\n",
              "      <th>10</th>\n",
              "      <td>1.000000</td>\n",
              "      <td>0.935323</td>\n",
              "      <td>DecTree</td>\n",
              "    </tr>\n",
              "    <tr>\n",
              "      <th>16</th>\n",
              "      <td>0.998839</td>\n",
              "      <td>0.943594</td>\n",
              "      <td>RanForest</td>\n",
              "    </tr>\n",
              "  </tbody>\n",
              "</table>\n",
              "</div>"
            ],
            "text/plain": [
              "    MeanF1_Train  MeanF1_Test               MODEL\n",
              "4       1.000000     0.996552  LogisticRegression\n",
              "10      1.000000     0.935323             DecTree\n",
              "16      0.998839     0.943594           RanForest"
            ]
          },
          "metadata": {
            "tags": []
          },
          "execution_count": 480
        }
      ]
    },
    {
      "cell_type": "code",
      "metadata": {
        "id": "6cH_Jz8XYEWw",
        "colab_type": "code",
        "outputId": "9c6cd5a9-274e-433d-fa89-1c306bdaf678",
        "colab": {}
      },
      "source": [
        "#Checking the best model w.r.t each activity\n",
        "#SITTING\n",
        "df_MVf.loc[df_MVf.Activity=='SITTING' , ['MeanF1_Train','MeanF1_Test', 'MODEL']]"
      ],
      "execution_count": 0,
      "outputs": [
        {
          "output_type": "execute_result",
          "data": {
            "text/html": [
              "<div>\n",
              "<style scoped>\n",
              "    .dataframe tbody tr th:only-of-type {\n",
              "        vertical-align: middle;\n",
              "    }\n",
              "\n",
              "    .dataframe tbody tr th {\n",
              "        vertical-align: top;\n",
              "    }\n",
              "\n",
              "    .dataframe thead th {\n",
              "        text-align: right;\n",
              "    }\n",
              "</style>\n",
              "<table border=\"1\" class=\"dataframe\">\n",
              "  <thead>\n",
              "    <tr style=\"text-align: right;\">\n",
              "      <th></th>\n",
              "      <th>MeanF1_Train</th>\n",
              "      <th>MeanF1_Test</th>\n",
              "      <th>MODEL</th>\n",
              "    </tr>\n",
              "  </thead>\n",
              "  <tbody>\n",
              "    <tr>\n",
              "      <th>5</th>\n",
              "      <td>1.000000</td>\n",
              "      <td>0.954382</td>\n",
              "      <td>LogisticRegression</td>\n",
              "    </tr>\n",
              "    <tr>\n",
              "      <th>11</th>\n",
              "      <td>1.000000</td>\n",
              "      <td>0.910687</td>\n",
              "      <td>DecTree</td>\n",
              "    </tr>\n",
              "    <tr>\n",
              "      <th>17</th>\n",
              "      <td>0.997653</td>\n",
              "      <td>0.874314</td>\n",
              "      <td>RanForest</td>\n",
              "    </tr>\n",
              "  </tbody>\n",
              "</table>\n",
              "</div>"
            ],
            "text/plain": [
              "    MeanF1_Train  MeanF1_Test               MODEL\n",
              "5       1.000000     0.954382  LogisticRegression\n",
              "11      1.000000     0.910687             DecTree\n",
              "17      0.997653     0.874314           RanForest"
            ]
          },
          "metadata": {
            "tags": []
          },
          "execution_count": 481
        }
      ]
    },
    {
      "cell_type": "code",
      "metadata": {
        "id": "OzeDbrZeYEW0",
        "colab_type": "code",
        "colab": {}
      },
      "source": [
        "#SEEMS LIKE LOGISTIC IS DOING REALLY GOOD. BUT NEED TO CONFIRM WITH TEST DATA."
      ],
      "execution_count": 0,
      "outputs": []
    },
    {
      "cell_type": "code",
      "metadata": {
        "id": "lKzDMEG4YEW1",
        "colab_type": "code",
        "outputId": "18e921fc-bde4-4ceb-acd2-c5cd29ffcea9",
        "colab": {}
      },
      "source": [
        "#Dropping subject and encoding activities\n",
        "df_test.drop('subject', axis='columns', inplace=True)\n",
        "\n",
        "# Label encoding custom\n",
        "\n",
        "for act in list(label_encoding.keys()):\n",
        "    df_test.loc [ df_test.Activity == act , ['Activity']] = label_encoding[act]\n",
        "df_test.Activity.value_counts()"
      ],
      "execution_count": 0,
      "outputs": [
        {
          "output_type": "execute_result",
          "data": {
            "text/plain": [
              "0    185\n",
              "2    183\n",
              "1    178\n",
              "5    170\n",
              "3    149\n",
              "4    134\n",
              "Name: Activity, dtype: int64"
            ]
          },
          "metadata": {
            "tags": []
          },
          "execution_count": 483
        }
      ]
    },
    {
      "cell_type": "code",
      "metadata": {
        "id": "BaCIjZGvYEW3",
        "colab_type": "code",
        "outputId": "2d2cc6fd-0952-4710-ab98-6a032f797859",
        "colab": {}
      },
      "source": [
        "#Splitting test csv\n",
        "X_test = df_test.drop('Activity',axis=1)\n",
        "y_test = df_test.Activity\n",
        "print(X_test.shape)\n",
        "print(y_test.shape)"
      ],
      "execution_count": 0,
      "outputs": [
        {
          "output_type": "stream",
          "text": [
            "(999, 561)\n",
            "(999,)\n"
          ],
          "name": "stdout"
        }
      ]
    },
    {
      "cell_type": "code",
      "metadata": {
        "id": "YAsoUOPmYEW7",
        "colab_type": "code",
        "outputId": "a7c21611-dd4f-439a-aa08-f7cb7c582305",
        "colab": {}
      },
      "source": [
        "#CHECKING FOR THE TEST DATA WITH LOGISTIC REGRESSION\n",
        "lr.fit(X ,y)\n",
        "y_pred_test = lr.predict(X_test)\n",
        "print(classification_report(y_test, y_pred_test))"
      ],
      "execution_count": 0,
      "outputs": [
        {
          "output_type": "stream",
          "text": [
            "/anaconda3/lib/python3.6/site-packages/sklearn/linear_model/logistic.py:433: FutureWarning: Default solver will be changed to 'lbfgs' in 0.22. Specify a solver to silence this warning.\n",
            "  FutureWarning)\n",
            "/anaconda3/lib/python3.6/site-packages/sklearn/linear_model/logistic.py:460: FutureWarning: Default multi_class will be changed to 'auto' in 0.22. Specify the multi_class option to silence this warning.\n",
            "  \"this warning.\", FutureWarning)\n"
          ],
          "name": "stderr"
        },
        {
          "output_type": "stream",
          "text": [
            "              precision    recall  f1-score   support\n",
            "\n",
            "           0       0.96      0.93      0.95       185\n",
            "           1       0.73      0.95      0.82       178\n",
            "           2       1.00      0.99      0.99       183\n",
            "           3       0.98      0.74      0.84       149\n",
            "           4       0.84      0.99      0.91       134\n",
            "           5       0.78      0.63      0.70       170\n",
            "\n",
            "   micro avg       0.87      0.87      0.87       999\n",
            "   macro avg       0.88      0.87      0.87       999\n",
            "weighted avg       0.88      0.87      0.87       999\n",
            "\n"
          ],
          "name": "stdout"
        }
      ]
    },
    {
      "cell_type": "code",
      "metadata": {
        "id": "cOBTUOa6YEW-",
        "colab_type": "code",
        "colab": {}
      },
      "source": [
        "#This can be considered as the baseline model. \n",
        "#Lets try to imporve the score using non - linear models if possible"
      ],
      "execution_count": 0,
      "outputs": []
    },
    {
      "cell_type": "code",
      "metadata": {
        "id": "lQnjxOhVYEXA",
        "colab_type": "code",
        "outputId": "a362814e-75b6-43ed-dd6f-d0bd3d47a67f",
        "colab": {}
      },
      "source": [
        "#Initializing randomized search for Random forest\n",
        "from sklearn.model_selection import RandomizedSearchCV\n",
        "# Number of trees in random forest\n",
        "n_estimators = [int(x) for x in np.linspace(start = 100, stop = 2000, num = 11)]\n",
        "# Number of features to consider at every split\n",
        "max_features = ['auto', 'sqrt']\n",
        "# Maximum number of levels in tree\n",
        "max_depth = [int(x) for x in np.linspace(10, 110, num = 11)]\n",
        "max_depth.append(None)\n",
        "# Minimum number of samples required to split a node\n",
        "min_samples_split = [2, 5, 10]\n",
        "# Minimum number of samples required at each leaf node\n",
        "min_samples_leaf = [1, 2, 4]\n",
        "# Method of selecting samples for training each tree\n",
        "bootstrap = [True, False]\n",
        "# Create the random grid\n",
        "random_grid = {'n_estimators': n_estimators,\n",
        "               'max_features': max_features,\n",
        "               'max_depth': max_depth,\n",
        "               'min_samples_split': min_samples_split,\n",
        "               'min_samples_leaf': min_samples_leaf,\n",
        "               'bootstrap': bootstrap}\n",
        "print(random_grid)"
      ],
      "execution_count": 0,
      "outputs": [
        {
          "output_type": "stream",
          "text": [
            "{'n_estimators': [100, 290, 480, 670, 860, 1050, 1240, 1430, 1620, 1810, 2000], 'max_features': ['auto', 'sqrt'], 'max_depth': [10, 20, 30, 40, 50, 60, 70, 80, 90, 100, 110, None], 'min_samples_split': [2, 5, 10], 'min_samples_leaf': [1, 2, 4], 'bootstrap': [True, False]}\n"
          ],
          "name": "stdout"
        }
      ]
    },
    {
      "cell_type": "code",
      "metadata": {
        "id": "Wbpz1SYLYEXE",
        "colab_type": "code",
        "outputId": "3ec605b7-643a-4368-83fb-ac6091041346",
        "colab": {}
      },
      "source": [
        "# Use the random grid to search for best hyperparameters\n",
        "# First create the base model to tune\n",
        "rf = RandomForestClassifier()\n",
        "# Random search of parameters, using 3 fold cross validation, \n",
        "# search across 50 different combinations, and use all available cores\n",
        "rf_random = RandomizedSearchCV(estimator = rf, param_distributions = random_grid, n_iter = 50, cv = 3, verbose=2, random_state=42, n_jobs = -1)\n",
        "\n",
        "\n",
        "#Fitting the random search model\n",
        "rf_random.fit(X, y)"
      ],
      "execution_count": 0,
      "outputs": [
        {
          "output_type": "stream",
          "text": [
            "Fitting 3 folds for each of 50 candidates, totalling 150 fits\n"
          ],
          "name": "stdout"
        },
        {
          "output_type": "stream",
          "text": [
            "[Parallel(n_jobs=-1)]: Using backend LokyBackend with 4 concurrent workers.\n",
            "[Parallel(n_jobs=-1)]: Done  33 tasks      | elapsed:  1.7min\n",
            "[Parallel(n_jobs=-1)]: Done 150 out of 150 | elapsed:  8.4min finished\n",
            "/anaconda3/lib/python3.6/site-packages/sklearn/model_selection/_search.py:841: DeprecationWarning: The default of the `iid` parameter will change from True to False in version 0.22 and will be removed in 0.24. This will change numeric results when test-set sizes are unequal.\n",
            "  DeprecationWarning)\n"
          ],
          "name": "stderr"
        },
        {
          "output_type": "execute_result",
          "data": {
            "text/plain": [
              "RandomizedSearchCV(cv=3, error_score='raise-deprecating',\n",
              "          estimator=RandomForestClassifier(bootstrap=True, class_weight=None, criterion='gini',\n",
              "            max_depth=None, max_features='auto', max_leaf_nodes=None,\n",
              "            min_impurity_decrease=0.0, min_impurity_split=None,\n",
              "            min_samples_leaf=1, min_samples_split=2,\n",
              "            min_weight_fraction_leaf=0.0, n_estimators='warn', n_jobs=None,\n",
              "            oob_score=False, random_state=None, verbose=0,\n",
              "            warm_start=False),\n",
              "          fit_params=None, iid='warn', n_iter=50, n_jobs=-1,\n",
              "          param_distributions={'n_estimators': [100, 290, 480, 670, 860, 1050, 1240, 1430, 1620, 1810, 2000], 'max_features': ['auto', 'sqrt'], 'max_depth': [10, 20, 30, 40, 50, 60, 70, 80, 90, 100, 110, None], 'min_samples_split': [2, 5, 10], 'min_samples_leaf': [1, 2, 4], 'bootstrap': [True, False]},\n",
              "          pre_dispatch='2*n_jobs', random_state=42, refit=True,\n",
              "          return_train_score='warn', scoring=None, verbose=2)"
            ]
          },
          "metadata": {
            "tags": []
          },
          "execution_count": 488
        }
      ]
    },
    {
      "cell_type": "code",
      "metadata": {
        "id": "x5Qqc7OLYEXH",
        "colab_type": "code",
        "outputId": "db9bd082-d6d3-45b6-da55-e0e7fd5709ce",
        "colab": {}
      },
      "source": [
        "rf_random.best_params_"
      ],
      "execution_count": 0,
      "outputs": [
        {
          "output_type": "execute_result",
          "data": {
            "text/plain": [
              "{'n_estimators': 290,\n",
              " 'min_samples_split': 10,\n",
              " 'min_samples_leaf': 4,\n",
              " 'max_features': 'auto',\n",
              " 'max_depth': 20,\n",
              " 'bootstrap': True}"
            ]
          },
          "metadata": {
            "tags": []
          },
          "execution_count": 489
        }
      ]
    },
    {
      "cell_type": "code",
      "metadata": {
        "id": "LZCz6VJMYEXJ",
        "colab_type": "code",
        "outputId": "5fc2e8da-bd6e-4bdd-c115-14cab438210c",
        "colab": {}
      },
      "source": [
        "rf_random = rf_random.best_estimator_\n",
        "rf_random.fit(X, y)\n",
        "y_pred_test = rf_random.predict(X_test)\n",
        "print(classification_report(y_test, y_pred_test))"
      ],
      "execution_count": 0,
      "outputs": [
        {
          "output_type": "stream",
          "text": [
            "              precision    recall  f1-score   support\n",
            "\n",
            "           0       0.93      0.98      0.96       185\n",
            "           1       0.74      0.91      0.81       178\n",
            "           2       1.00      1.00      1.00       183\n",
            "           3       0.96      0.91      0.93       149\n",
            "           4       0.98      0.95      0.97       134\n",
            "           5       0.88      0.66      0.76       170\n",
            "\n",
            "   micro avg       0.90      0.90      0.90       999\n",
            "   macro avg       0.91      0.90      0.90       999\n",
            "weighted avg       0.91      0.90      0.90       999\n",
            "\n"
          ],
          "name": "stdout"
        }
      ]
    },
    {
      "cell_type": "code",
      "metadata": {
        "id": "-XUEH9xrYEXM",
        "colab_type": "code",
        "colab": {}
      },
      "source": [
        "# The performance has increased . Nice. Let's try some other models"
      ],
      "execution_count": 0,
      "outputs": []
    },
    {
      "cell_type": "code",
      "metadata": {
        "id": "_Vrm_cU7YEXQ",
        "colab_type": "code",
        "outputId": "ff67e776-ef98-40ea-9eaf-503f310cb1b0",
        "colab": {}
      },
      "source": [
        "svc = SVC()\n",
        "tuned_parameters = [{'kernel': ['rbf'], 'gamma': [1e-2, 1e-3, 1e-4, 1e-5],\n",
        "                     'C': [0.001, 0.10, 0.1, 10, 25, 50, 100, 1000]},\n",
        "                    {'kernel': ['sigmoid'], 'gamma': [1e-2, 1e-3, 1e-4, 1e-5],\n",
        "                     'C': [0.001, 0.10, 0.1, 10, 25, 50, 100, 1000]},\n",
        "                    {'kernel': ['linear'], 'C': [0.001, 0.10, 0.1, 10, 25, 50, 100, 1000]}\n",
        "                   ]\n",
        "from sklearn.model_selection import GridSearchCV\n",
        "svc_grid = GridSearchCV(svc, tuned_parameters ,cv=5)\n",
        "svc_grid.fit(X, y)"
      ],
      "execution_count": 0,
      "outputs": [
        {
          "output_type": "stream",
          "text": [
            "/anaconda3/lib/python3.6/site-packages/sklearn/model_selection/_search.py:841: DeprecationWarning: The default of the `iid` parameter will change from True to False in version 0.22 and will be removed in 0.24. This will change numeric results when test-set sizes are unequal.\n",
            "  DeprecationWarning)\n"
          ],
          "name": "stderr"
        },
        {
          "output_type": "execute_result",
          "data": {
            "text/plain": [
              "GridSearchCV(cv=5, error_score='raise-deprecating',\n",
              "       estimator=SVC(C=1.0, cache_size=200, class_weight=None, coef0=0.0,\n",
              "  decision_function_shape='ovr', degree=3, gamma='auto_deprecated',\n",
              "  kernel='rbf', max_iter=-1, probability=False, random_state=None,\n",
              "  shrinking=True, tol=0.001, verbose=False),\n",
              "       fit_params=None, iid='warn', n_jobs=None,\n",
              "       param_grid=[{'kernel': ['rbf'], 'gamma': [0.01, 0.001, 0.0001, 1e-05], 'C': [0.001, 0.1, 0.1, 10, 25, 50, 100, 1000]}, {'kernel': ['sigmoid'], 'gamma': [0.01, 0.001, 0.0001, 1e-05], 'C': [0.001, 0.1, 0.1, 10, 25, 50, 100, 1000]}, {'kernel': ['linear'], 'C': [0.001, 0.1, 0.1, 10, 25, 50, 100, 1000]}],\n",
              "       pre_dispatch='2*n_jobs', refit=True, return_train_score='warn',\n",
              "       scoring=None, verbose=0)"
            ]
          },
          "metadata": {
            "tags": []
          },
          "execution_count": 493
        }
      ]
    },
    {
      "cell_type": "code",
      "metadata": {
        "id": "5UKwbrOMYEXW",
        "colab_type": "code",
        "outputId": "74eac252-ee22-4ab0-f3b6-fa82dd638b54",
        "colab": {}
      },
      "source": [
        "svc_grid.best_params_"
      ],
      "execution_count": 0,
      "outputs": [
        {
          "output_type": "execute_result",
          "data": {
            "text/plain": [
              "{'C': 100, 'gamma': 0.001, 'kernel': 'rbf'}"
            ]
          },
          "metadata": {
            "tags": []
          },
          "execution_count": 494
        }
      ]
    },
    {
      "cell_type": "code",
      "metadata": {
        "id": "bW1633cMYEXa",
        "colab_type": "code",
        "outputId": "1927ff15-98eb-49f6-8a72-1c3afc424c69",
        "colab": {}
      },
      "source": [
        "svc_grid =svc_grid.best_estimator_\n",
        "svc_grid.fit(X, y)\n",
        "y_pred= svc_grid.predict(X_test)\n",
        "print(classification_report(y_test , y_pred))"
      ],
      "execution_count": 0,
      "outputs": [
        {
          "output_type": "stream",
          "text": [
            "              precision    recall  f1-score   support\n",
            "\n",
            "           0       0.92      0.92      0.92       185\n",
            "           1       0.78      0.95      0.85       178\n",
            "           2       1.00      1.00      1.00       183\n",
            "           3       1.00      0.77      0.87       149\n",
            "           4       0.80      0.99      0.88       134\n",
            "           5       0.93      0.71      0.81       170\n",
            "\n",
            "   micro avg       0.89      0.89      0.89       999\n",
            "   macro avg       0.90      0.89      0.89       999\n",
            "weighted avg       0.91      0.89      0.89       999\n",
            "\n"
          ],
          "name": "stdout"
        }
      ]
    },
    {
      "cell_type": "code",
      "metadata": {
        "id": "g8LYWyqFYEXd",
        "colab_type": "code",
        "colab": {}
      },
      "source": [
        "#The best model so far is Support Vector Classifier"
      ],
      "execution_count": 0,
      "outputs": []
    },
    {
      "cell_type": "code",
      "metadata": {
        "id": "AWqCCiZXYEXe",
        "colab_type": "code",
        "colab": {}
      },
      "source": [
        "#Lets try taking only important columns using random forests feture importance"
      ],
      "execution_count": 0,
      "outputs": []
    },
    {
      "cell_type": "code",
      "metadata": {
        "id": "_OMkQ__XYEXf",
        "colab_type": "code",
        "outputId": "fd4a1887-d7e0-4261-acd4-6e758b7e6994",
        "colab": {}
      },
      "source": [
        "feature_ranks = np.argsort(rf_random.feature_importances_)[::-1]\n",
        "feat_cols = [X.columns[i] for i in feature_ranks]\n",
        "for i in range(100,501,100):\n",
        "    X_short = X[feat_cols[0:i]]\n",
        "    X_test_short = X_test[feat_cols[0:i]]\n",
        "    rf_random.fit(X_short, y)\n",
        "    print(classification_report(y_test , rf_random.predict(X_test_short)))"
      ],
      "execution_count": 0,
      "outputs": [
        {
          "output_type": "stream",
          "text": [
            "              precision    recall  f1-score   support\n",
            "\n",
            "           0       0.91      0.98      0.95       185\n",
            "           1       0.73      0.91      0.81       178\n",
            "           2       1.00      1.00      1.00       183\n",
            "           3       0.94      0.91      0.93       149\n",
            "           4       0.98      0.90      0.94       134\n",
            "           5       0.87      0.65      0.75       170\n",
            "\n",
            "   micro avg       0.90      0.90      0.90       999\n",
            "   macro avg       0.91      0.89      0.90       999\n",
            "weighted avg       0.90      0.90      0.89       999\n",
            "\n",
            "              precision    recall  f1-score   support\n",
            "\n",
            "           0       0.87      0.98      0.92       185\n",
            "           1       0.73      0.90      0.81       178\n",
            "           2       1.00      1.00      1.00       183\n",
            "           3       0.96      0.85      0.90       149\n",
            "           4       0.98      0.93      0.95       134\n",
            "           5       0.87      0.65      0.74       170\n",
            "\n",
            "   micro avg       0.89      0.89      0.89       999\n",
            "   macro avg       0.90      0.89      0.89       999\n",
            "weighted avg       0.90      0.89      0.89       999\n",
            "\n",
            "              precision    recall  f1-score   support\n",
            "\n",
            "           0       0.90      0.98      0.94       185\n",
            "           1       0.74      0.91      0.82       178\n",
            "           2       1.00      1.00      1.00       183\n",
            "           3       0.97      0.91      0.94       149\n",
            "           4       0.98      0.92      0.95       134\n",
            "           5       0.88      0.66      0.76       170\n",
            "\n",
            "   micro avg       0.90      0.90      0.90       999\n",
            "   macro avg       0.91      0.90      0.90       999\n",
            "weighted avg       0.91      0.90      0.90       999\n",
            "\n",
            "              precision    recall  f1-score   support\n",
            "\n",
            "           0       0.93      0.99      0.96       185\n",
            "           1       0.72      0.91      0.81       178\n",
            "           2       1.00      1.00      1.00       183\n",
            "           3       0.97      0.93      0.95       149\n",
            "           4       0.98      0.94      0.96       134\n",
            "           5       0.87      0.64      0.73       170\n",
            "\n",
            "   micro avg       0.90      0.90      0.90       999\n",
            "   macro avg       0.91      0.90      0.90       999\n",
            "weighted avg       0.91      0.90      0.90       999\n",
            "\n",
            "              precision    recall  f1-score   support\n",
            "\n",
            "           0       0.92      0.99      0.95       185\n",
            "           1       0.75      0.91      0.82       178\n",
            "           2       1.00      1.00      1.00       183\n",
            "           3       0.98      0.93      0.95       149\n",
            "           4       0.98      0.93      0.95       134\n",
            "           5       0.88      0.68      0.76       170\n",
            "\n",
            "   micro avg       0.91      0.91      0.91       999\n",
            "   macro avg       0.92      0.91      0.91       999\n",
            "weighted avg       0.91      0.91      0.91       999\n",
            "\n"
          ],
          "name": "stdout"
        }
      ]
    },
    {
      "cell_type": "code",
      "metadata": {
        "id": "hCFNRCB-YEXj",
        "colab_type": "code",
        "colab": {}
      },
      "source": [
        "#With just top 300 features we are getting better scores than SVM of full data. "
      ],
      "execution_count": 0,
      "outputs": []
    },
    {
      "cell_type": "code",
      "metadata": {
        "id": "rXC3Ca84YEXl",
        "colab_type": "code",
        "outputId": "7c351ea8-37cb-4c71-f654-760c8a4ff78a",
        "colab": {}
      },
      "source": [
        "#Taking our final models\n",
        "lr_0p1 = LogisticRegression(C=0.1)\n",
        "lr = LogisticRegression()\n",
        "rf_random = RandomForestClassifier(n_estimators=200, min_samples_split=5, min_samples_leaf=2, max_features='auto',\n",
        "                max_depth=90, bootstrap=False)\n",
        "svc = SVC(C=100, gamma=0.001, kernel='rbf')\n",
        "\n",
        "X_train_small = X[feat_cols[0:300]]\n",
        "X_test_small = X_test[feat_cols[0:300]]\n",
        "print(X_train_small.shape)\n",
        "print(X_test_small.shape)"
      ],
      "execution_count": 0,
      "outputs": [
        {
          "output_type": "stream",
          "text": [
            "(999, 300)\n",
            "(999, 300)\n"
          ],
          "name": "stdout"
        }
      ]
    },
    {
      "cell_type": "code",
      "metadata": {
        "id": "d4bSL2kgYEXn",
        "colab_type": "code",
        "outputId": "cc29ae74-be77-4a34-f67b-996f49fd7828",
        "colab": {}
      },
      "source": [
        "tuned_models = [lr_0p1, lr, rf_random, svc]\n",
        "for i in tuned_models:\n",
        "    i.fit(X_train_small, y)\n",
        "    y_pred = i.predict(X_test_small)\n",
        "    print(classification_report(y_test , y_pred))"
      ],
      "execution_count": 0,
      "outputs": [
        {
          "output_type": "stream",
          "text": [
            "/anaconda3/lib/python3.6/site-packages/sklearn/linear_model/logistic.py:433: FutureWarning: Default solver will be changed to 'lbfgs' in 0.22. Specify a solver to silence this warning.\n",
            "  FutureWarning)\n",
            "/anaconda3/lib/python3.6/site-packages/sklearn/linear_model/logistic.py:460: FutureWarning: Default multi_class will be changed to 'auto' in 0.22. Specify the multi_class option to silence this warning.\n",
            "  \"this warning.\", FutureWarning)\n"
          ],
          "name": "stderr"
        },
        {
          "output_type": "stream",
          "text": [
            "              precision    recall  f1-score   support\n",
            "\n",
            "           0       0.94      0.92      0.93       185\n",
            "           1       0.72      0.92      0.81       178\n",
            "           2       1.00      1.00      1.00       183\n",
            "           3       0.98      0.82      0.89       149\n",
            "           4       0.82      0.99      0.90       134\n",
            "           5       0.87      0.61      0.72       170\n",
            "\n",
            "   micro avg       0.88      0.88      0.88       999\n",
            "   macro avg       0.89      0.88      0.87       999\n",
            "weighted avg       0.89      0.88      0.87       999\n",
            "\n"
          ],
          "name": "stdout"
        },
        {
          "output_type": "stream",
          "text": [
            "/anaconda3/lib/python3.6/site-packages/sklearn/linear_model/logistic.py:433: FutureWarning: Default solver will be changed to 'lbfgs' in 0.22. Specify a solver to silence this warning.\n",
            "  FutureWarning)\n",
            "/anaconda3/lib/python3.6/site-packages/sklearn/linear_model/logistic.py:460: FutureWarning: Default multi_class will be changed to 'auto' in 0.22. Specify the multi_class option to silence this warning.\n",
            "  \"this warning.\", FutureWarning)\n"
          ],
          "name": "stderr"
        },
        {
          "output_type": "stream",
          "text": [
            "              precision    recall  f1-score   support\n",
            "\n",
            "           0       0.91      0.92      0.91       185\n",
            "           1       0.73      0.89      0.80       178\n",
            "           2       1.00      1.00      1.00       183\n",
            "           3       0.98      0.68      0.81       149\n",
            "           4       0.85      0.99      0.92       134\n",
            "           5       0.72      0.65      0.69       170\n",
            "\n",
            "   micro avg       0.86      0.86      0.86       999\n",
            "   macro avg       0.87      0.86      0.85       999\n",
            "weighted avg       0.87      0.86      0.86       999\n",
            "\n",
            "              precision    recall  f1-score   support\n",
            "\n",
            "           0       0.92      0.98      0.95       185\n",
            "           1       0.74      0.92      0.82       178\n",
            "           2       1.00      1.00      1.00       183\n",
            "           3       0.98      0.94      0.96       149\n",
            "           4       1.00      0.96      0.98       134\n",
            "           5       0.88      0.66      0.75       170\n",
            "\n",
            "   micro avg       0.91      0.91      0.91       999\n",
            "   macro avg       0.92      0.91      0.91       999\n",
            "weighted avg       0.92      0.91      0.91       999\n",
            "\n",
            "              precision    recall  f1-score   support\n",
            "\n",
            "           0       0.88      0.93      0.90       185\n",
            "           1       0.72      0.88      0.79       178\n",
            "           2       1.00      1.00      1.00       183\n",
            "           3       1.00      0.73      0.84       149\n",
            "           4       0.82      0.99      0.90       134\n",
            "           5       0.84      0.65      0.73       170\n",
            "\n",
            "   micro avg       0.86      0.86      0.86       999\n",
            "   macro avg       0.88      0.86      0.86       999\n",
            "weighted avg       0.88      0.86      0.86       999\n",
            "\n"
          ],
          "name": "stdout"
        }
      ]
    },
    {
      "cell_type": "code",
      "metadata": {
        "id": "6AynWHoFYEXy",
        "colab_type": "code",
        "colab": {}
      },
      "source": [
        "# We get around 92% weighted f1 score and 91% precision and recall in the random forest with just 300 features\n",
        "#LAYING HAS BEEN PREDICTED PERFECTLY\n",
        "#SITTING IS COMPARITIVELY PERFORMING LESS GOOD. BECAUSE THERE ARE MANY MIS CLASSIFICATIONS OF SITTING WITH STANDING. NOT ENOUGH VARIANCE I GUESS TO DISTINGUISH."
      ],
      "execution_count": 0,
      "outputs": []
    },
    {
      "cell_type": "code",
      "metadata": {
        "id": "KVnkgbUOYEX3",
        "colab_type": "code",
        "outputId": "1de53538-5dad-4c6f-f844-e250c1119abf",
        "colab": {}
      },
      "source": [
        "#Plotting output True vs Predictions for best model i.e random forest: FOR EACH CLASS .\n",
        "y_pred_rf = rf_random.predict(X_test_small)\n",
        "for i in range(6):\n",
        "    plt.figure(figsize=(8,8))\n",
        "    y_test_curr = y_test.loc[y_test==i]\n",
        "    y_pred_curr = y_pred_rf[y_test_curr.index]\n",
        "    plt.scatter(range(len(y_test_curr)) , y_test_curr, label='True')\n",
        "    plt.scatter(range(len(y_pred_curr)) , y_pred_curr , marker='*', label='Predicted')\n",
        "    plt.xlabel('Index')\n",
        "    plt.ylabel('Labels')\n",
        "    plt.legend()\n",
        "    plt.title(list(label_encoding.keys())[i])\n",
        "    plt.show()"
      ],
      "execution_count": 0,
      "outputs": [
        {
          "output_type": "display_data",
          "data": {
            "image/png": "[encoded data removed]",
            "text/plain": [
              "<Figure size 576x576 with 1 Axes>"
            ]
          },
          "metadata": {
            "tags": []
          }
        },
        {
          "output_type": "display_data",
          "data": {
            "image/png": "[encoded data removed]",
            "text/plain": [
              "<Figure size 576x576 with 1 Axes>"
            ]
          },
          "metadata": {
            "tags": []
          }
        },
        {
          "output_type": "display_data",
          "data": {
            "image/png": "[encoded data removed]",
            "text/plain": [
              "<Figure size 576x576 with 1 Axes>"
            ]
          },
          "metadata": {
            "tags": []
          }
        },
        {
          "output_type": "display_data",
          "data": {
            "image/png": "[encoded data removed]",
            "text/plain": [
              "<Figure size 576x576 with 1 Axes>"
            ]
          },
          "metadata": {
            "tags": []
          }
        },
        {
          "output_type": "display_data",
          "data": {
            "image/png": "[encoded data removed]",
            "text/plain": [
              "<Figure size 576x576 with 1 Axes>"
            ]
          },
          "metadata": {
            "tags": []
          }
        },
        {
          "output_type": "display_data",
          "data": {
            "image/png": "[encoded data removed]",
            "text/plain": [
              "<Figure size 576x576 with 1 Axes>"
            ]
          },
          "metadata": {
            "tags": []
          }
        }
      ]
    }
  ]
}